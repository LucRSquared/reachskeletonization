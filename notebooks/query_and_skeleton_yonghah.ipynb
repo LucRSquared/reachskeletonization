{
 "cells": [
  {
   "cell_type": "code",
   "execution_count": 205,
   "metadata": {},
   "outputs": [],
   "source": [
    "from sqlalchemy import URL, create_engine, text as sql_text\n",
    "import geopandas as gpd\n",
    "import networkx as nx\n",
    "import pandas as pd\n",
    "import matplotlib.pyplot as plt\n",
    "from shapely.geometry import LineString, Polygon\n",
    "from shapely.geometry.polygon import orient\n",
    "import os\n",
    "import json\n",
    "from pathlib import Path\n",
    "from ladybug_geometry_polyskel import polyskel\n",
    "\n",
    "\n",
    "import warnings\n",
    "warnings.filterwarnings('ignore')"
   ]
  },
  {
   "cell_type": "code",
   "execution_count": 3,
   "metadata": {},
   "outputs": [],
   "source": [
    "credentials = Path('../config/db_credentials.json')\n",
    "with open(credentials, 'r') as f:\n",
    "    credentials = json.load(f)\n",
    "\n",
    "user     = credentials['user']\n",
    "password = credentials['password']\n",
    "host     = credentials['host']\n",
    "port     = credentials['port']\n",
    "database = credentials['database']"
   ]
  },
  {
   "cell_type": "code",
   "execution_count": 4,
   "metadata": {},
   "outputs": [],
   "source": [
    "# create a SQLAlchemy engine object\n",
    "url_object = URL.create(\n",
    "    \"postgresql\",\n",
    "    username=user,\n",
    "    password=password,\n",
    "    host=host,\n",
    "    port=port,\n",
    "    database=database\n",
    ")\n",
    "\n",
    "engine = create_engine(url_object)"
   ]
  },
  {
   "cell_type": "code",
   "execution_count": 5,
   "metadata": {},
   "outputs": [],
   "source": [
    "query = \"\"\"SELECT * FROM thuc_1002_annagnps_reach_ids ORDER BY dn LIMIT 37\"\"\"\n",
    "\n",
    "raw_reaches = gpd.read_postgis(sql=sql_text(query), con=engine.connect(), geom_col='geom')"
   ]
  },
  {
   "cell_type": "code",
   "execution_count": 8,
   "metadata": {},
   "outputs": [],
   "source": [
    "raw_reaches = raw_reaches.dissolve(by='dn', as_index=False)"
   ]
  },
  {
   "cell_type": "code",
   "execution_count": 9,
   "metadata": {},
   "outputs": [],
   "source": [
    "def default_ax(size=8):\n",
    "    fig, ax = plt.subplots()\n",
    "    fig.set_size_inches(size, size)\n",
    "    ax.axison = False\n",
    "    ax.set_aspect('equal')\n",
    "    return ax"
   ]
  },
  {
   "cell_type": "code",
   "execution_count": 206,
   "metadata": {},
   "outputs": [],
   "source": [
    "def get_skeleton_network(df, reach_id):\n",
    "    reach = df[df['dn']==reach_id]\n",
    "    rpoly = reach.geometry.iloc[0]\n",
    "    rpoly = orient(rpoly, sign=1)\n",
    "    rbound = rpoly.exterior.coords\n",
    "    skeleton = polyskel.skeleton_as_subtree_list(list(rbound), [])\n",
    "    sg = nx.Graph()\n",
    "    for edge in skeleton:\n",
    "        source = edge.source\n",
    "        for sink in edge.sinks:\n",
    "            sg.add_edge(source, sink)\n",
    "    return sg\n",
    "\n",
    "def get_skeleton_from_poly(poly):\n",
    "    bound = poly.exterior.coords\n",
    "    skeleton = polyskel.skeleton_as_subtree_list(list(bound), [])\n",
    "    sg = nx.Graph()\n",
    "    for edge in skeleton:\n",
    "        source = edge.source\n",
    "        for sink in edge.sinks:\n",
    "            sg.add_edge(source, sink)\n",
    "    return sg\n",
    "\n",
    "def nodes_pos_dict(G):\n",
    "    pos = {}\n",
    "    for node in G.nodes():\n",
    "        pos[node] = (node.x, node.y)\n",
    "    return pos"
   ]
  },
  {
   "cell_type": "code",
   "execution_count": 266,
   "metadata": {},
   "outputs": [],
   "source": [
    "reaches_buffer = raw_reaches.copy(deep=True)\n",
    "reaches_buffer.geometry = reaches_buffer.buffer(0.01).simplify(10)\n",
    "# reaches_buffer.geometry = reaches_buffer.buffer(1).simplify(30)"
   ]
  },
  {
   "cell_type": "code",
   "execution_count": 269,
   "metadata": {},
   "outputs": [],
   "source": [
    "reach_id = 5\n",
    "reach = get_skeleton_network(reaches_buffer, reach_id)\n",
    "pos = nodes_pos_dict(reach)\n",
    "\n",
    "leaves = set()\n",
    "for segment, degree in reach.degree():\n",
    "    if degree < 2:\n",
    "        leaves.add(segment)\n",
    "\n",
    "reach.remove_nodes_from(leaves)"
   ]
  },
  {
   "cell_type": "code",
   "execution_count": 270,
   "metadata": {},
   "outputs": [
    {
     "data": {
      "image/png": "[encoded data removed]",
      "text/plain": [
       "<Figure size 1000x1000 with 1 Axes>"
      ]
     },
     "metadata": {},
     "output_type": "display_data"
    }
   ],
   "source": [
    "ax = default_ax(size=10)\n",
    "raw_reaches[raw_reaches['dn'] == reach_id].plot(ax=ax, linewidth=0.3, color='#aaaaaa')\n",
    "reaches_buffer[reaches_buffer['dn']==reach_id].plot(ax=ax, linewidth=0.3, alpha=0.2, color='blue')\n",
    "nx.draw(reach, pos, node_size = 1, ax=ax, edge_color='r')\n",
    "plt.show()"
   ]
  },
  {
   "cell_type": "code",
   "execution_count": 263,
   "metadata": {},
   "outputs": [
    {
     "data": {
      "image/png": "[encoded data removed]",
      "text/plain": [
       "<Figure size 1500x1500 with 1 Axes>"
      ]
     },
     "metadata": {},
     "output_type": "display_data"
    }
   ],
   "source": [
    "# poly = Polygon([(0,0), (1,0), (1,2), (0,2)])\n",
    "x = [446062.03539216705, 446032.32828538585, 446093.80840262043, 446154.01617744745, 446213.23048248905, 446152.0402074404, 446122.03539216705, 446062.03539216705]\n",
    "y = [4278363.15986837, 4278394.866975151, 4278364.794261654, 4278244.354958692, 4277463.179083089, 4277614.0618512295, 4278243.15986837, 4278363.15986837]\n",
    "poly = Polygon([(x,y) for x, y in zip(x,y)])\n",
    "\n",
    "# poly = raw_reaches.unary_union.buffer(1).simplify(5)\n",
    "\n",
    "\n",
    "poly = orient(poly, sign=1)\n",
    "\n",
    "gdf_poly = gpd.GeoDataFrame(geometry=[poly])\n",
    "\n",
    "G = get_skeleton_from_poly(poly)\n",
    "\n",
    "leaves = set()\n",
    "for node, degree in G.degree():\n",
    "    if degree < 2:\n",
    "        leaves.add(node)\n",
    "\n",
    "G.remove_nodes_from(leaves)\n",
    "posG = nodes_pos_dict(G)\n",
    "\n",
    "ax = default_ax(size=15)\n",
    "gdf_poly.plot(ax=ax, linewidth=0.3, color='#aaaaaa')\n",
    "nx.draw(G, posG, node_size = 1, ax=ax, edge_color='r')\n",
    "plt.show()"
   ]
  }
 ],
 "metadata": {
  "kernelspec": {
   "display_name": ".venv",
   "language": "python",
   "name": "python3"
  },
  "language_info": {
   "codemirror_mode": {
    "name": "ipython",
    "version": 3
   },
   "file_extension": ".py",
   "mimetype": "text/x-python",
   "name": "python",
   "nbconvert_exporter": "python",
   "pygments_lexer": "ipython3",
   "version": "3.11.4"
  },
  "orig_nbformat": 4
 },
 "nbformat": 4,
 "nbformat_minor": 2
}
